{
 "cells": [
  {
   "cell_type": "code",
   "execution_count": 37,
   "metadata": {},
   "outputs": [],
   "source": [
    "import pandas as pd\n",
    "import numpy as np\n",
    "import os\n",
    "import matplotlib.pyplot as plt\n",
    "import cv2\n",
    "import random\n",
    "import pickle\n",
    "plt.style.use(\"ggplot\")"
   ]
  },
  {
   "cell_type": "code",
   "execution_count": 2,
   "metadata": {},
   "outputs": [],
   "source": [
    "import scipy.io\n",
    "Fnt = scipy.io.loadmat('FntT\\lists_var_size')\n",
    "Img = scipy.io.loadmat('ImgT\\lists')"
   ]
  },
  {
   "cell_type": "code",
   "execution_count": 3,
   "metadata": {},
   "outputs": [],
   "source": [
    "#Load for the computer generated images\n",
    "TlabelsFnt = Fnt['list'][0][0][0]\n",
    "TnamesFnt = Fnt['list'][0][0][1]\n",
    "clabelsFnt = Fnt['list'][0][0][2]\n",
    "cnamesFnt =  Fnt['list'][0][0][3]\n",
    "\n",
    "#Load for the actual images\n",
    "TlabelsImg = Img['list'][0][0][2]\n",
    "TnamesImg = Img['list'][0][0][0]\n",
    "gbImg = Img['list'][0][0][1]\n",
    "clabelsImg = Img['list'][0][0][3]\n",
    "cnamesImg =  Img['list'][0][0][4]"
   ]
  },
  {
   "cell_type": "code",
   "execution_count": 4,
   "metadata": {},
   "outputs": [],
   "source": [
    "DATADIR = \"Fnt\\\\\"\n",
    "FOLDERS = []\n",
    "for i in range(1,63):\n",
    "    if i < 10:\n",
    "        FOLDERS.append(\"Sample00\"+str(i))\n",
    "    else:\n",
    "        FOLDERS.append(\"Sample0\"+str(i))"
   ]
  },
  {
   "cell_type": "code",
   "execution_count": 5,
   "metadata": {},
   "outputs": [],
   "source": [
    "IMG_SIZE = 120\n",
    "data = []\n",
    "\n",
    "for folder in FOLDERS:\n",
    "    path = os.path.join(DATADIR, folder)\n",
    "    class_num = FOLDERS.index(folder)\n",
    "    for pic in os.listdir(path):\n",
    "        #print(os.path.join(path, pic))\n",
    "        image = cv2.imread(os.path.join(path, pic), cv2.IMREAD_GRAYSCALE)\n",
    "        array = cv2.resize(image, (IMG_SIZE, IMG_SIZE))\n",
    "        data.append([array, class_num])"
   ]
  },
  {
   "cell_type": "code",
   "execution_count": 6,
   "metadata": {},
   "outputs": [],
   "source": [
    "random.shuffle(data)"
   ]
  },
  {
   "cell_type": "code",
   "execution_count": 15,
   "metadata": {},
   "outputs": [],
   "source": [
    "np.save(\"data.npy\", data)"
   ]
  },
  {
   "cell_type": "code",
   "execution_count": 16,
   "metadata": {},
   "outputs": [],
   "source": [
    "data = np.load(\"data.npy\")"
   ]
  },
  {
   "cell_type": "code",
   "execution_count": 17,
   "metadata": {},
   "outputs": [],
   "source": [
    "X = []\n",
    "y = []"
   ]
  },
  {
   "cell_type": "code",
   "execution_count": 18,
   "metadata": {
    "collapsed": true
   },
   "outputs": [
    {
     "ename": "NameError",
     "evalue": "name 'keras' is not defined",
     "output_type": "error",
     "traceback": [
      "\u001b[1;31m---------------------------------------------------------------------------\u001b[0m",
      "\u001b[1;31mNameError\u001b[0m                                 Traceback (most recent call last)",
      "\u001b[1;32m<ipython-input-18-90da0d92d8dd>\u001b[0m in \u001b[0;36m<module>\u001b[1;34m()\u001b[0m\n\u001b[0;32m      5\u001b[0m \u001b[0mX\u001b[0m \u001b[1;33m=\u001b[0m \u001b[0mnp\u001b[0m\u001b[1;33m.\u001b[0m\u001b[0marray\u001b[0m\u001b[1;33m(\u001b[0m\u001b[0mX\u001b[0m\u001b[1;33m)\u001b[0m\u001b[1;33m.\u001b[0m\u001b[0mreshape\u001b[0m\u001b[1;33m(\u001b[0m\u001b[1;33m-\u001b[0m\u001b[1;36m1\u001b[0m\u001b[1;33m,\u001b[0m \u001b[0mIMG_SIZE\u001b[0m\u001b[1;33m,\u001b[0m \u001b[0mIMG_SIZE\u001b[0m\u001b[1;33m,\u001b[0m \u001b[1;36m1\u001b[0m\u001b[1;33m)\u001b[0m\u001b[1;33m\u001b[0m\u001b[0m\n\u001b[0;32m      6\u001b[0m \u001b[0mX\u001b[0m \u001b[1;33m=\u001b[0m \u001b[0mX\u001b[0m\u001b[1;33m/\u001b[0m\u001b[1;36m255\u001b[0m\u001b[1;33m\u001b[0m\u001b[0m\n\u001b[1;32m----> 7\u001b[1;33m \u001b[0my\u001b[0m \u001b[1;33m=\u001b[0m \u001b[0mkeras\u001b[0m\u001b[1;33m.\u001b[0m\u001b[0mutils\u001b[0m\u001b[1;33m.\u001b[0m\u001b[0mto_categorical\u001b[0m\u001b[1;33m(\u001b[0m\u001b[0my\u001b[0m\u001b[1;33m)\u001b[0m\u001b[1;33m\u001b[0m\u001b[0m\n\u001b[0m",
      "\u001b[1;31mNameError\u001b[0m: name 'keras' is not defined"
     ]
    }
   ],
   "source": [
    "for features, label in data:\n",
    "    X.append(features)\n",
    "    y.append(label)\n",
    "    \n",
    "X = np.array(X).reshape(-1, IMG_SIZE, IMG_SIZE, 1)\n",
    "X = X/255"
   ]
  },
  {
   "cell_type": "code",
   "execution_count": 20,
   "metadata": {},
   "outputs": [
    {
     "name": "stderr",
     "output_type": "stream",
     "text": [
      "Using TensorFlow backend.\n"
     ]
    }
   ],
   "source": [
    "import tensorflow as tf\n",
    "import time\n",
    "import keras\n",
    "import h5py\n",
    "from tensorflow.keras.models import Sequential\n",
    "from tensorflow.keras.layers import Dense, Dropout, Activation, Flatten, Conv2D, MaxPooling2D\n",
    "\n",
    "y = keras.utils.to_categorical(y)"
   ]
  },
  {
   "cell_type": "code",
   "execution_count": 38,
   "metadata": {},
   "outputs": [
    {
     "name": "stdout",
     "output_type": "stream",
     "text": [
      "Train on 56692 samples, validate on 6300 samples\n",
      "Epoch 1/5\n",
      "56692/56692 [==============================] - 209s 4ms/step - loss: 1.0018 - acc: 0.7264 - val_loss: 0.4315 - val_acc: 0.8595\n",
      "Epoch 2/5\n",
      "56692/56692 [==============================] - 206s 4ms/step - loss: 0.4568 - acc: 0.8475 - val_loss: 0.3447 - val_acc: 0.8779\n",
      "Epoch 3/5\n",
      "56692/56692 [==============================] - 208s 4ms/step - loss: 0.3448 - acc: 0.8768 - val_loss: 0.3051 - val_acc: 0.8883\n",
      "Epoch 4/5\n",
      "56692/56692 [==============================] - 209s 4ms/step - loss: 0.2873 - acc: 0.8938 - val_loss: 0.2785 - val_acc: 0.8973\n",
      "Epoch 5/5\n",
      "56692/56692 [==============================] - 210s 4ms/step - loss: 0.2499 - acc: 0.9065 - val_loss: 0.2834 - val_acc: 0.8998\n"
     ]
    }
   ],
   "source": [
    "model = Sequential()\n",
    "model.add(Conv2D(256, (3,3), activation = \"relu\", padding = \"same\", input_shape = X.shape[1:]))\n",
    "model.add(MaxPooling2D(pool_size=(2,2), padding = \"same\"))\n",
    "\n",
    "model.add(Conv2D(256, (3,3), activation = \"relu\", padding = \"same\"))\n",
    "model.add(MaxPooling2D(pool_size=(2,2), padding = \"same\"))\n",
    "\n",
    "#model.add(Conv2D(256, (3,3), activation = \"relu\", padding = \"same\"))\n",
    "#model.add(MaxPooling2D(pool_size=(2,2), padding = \"same\"))\n",
    "\n",
    "model.add(Flatten())\n",
    "model.add(Dense(256, activation = \"relu\"))\n",
    "\n",
    "model.add(Dropout(0.4))\n",
    "\n",
    "model.add(Dense(62, activation = \"softmax\"))\n",
    "\n",
    "model.compile(loss=\"categorical_crossentropy\",\n",
    "             optimizer = \"adam\",\n",
    "             metrics = [\"accuracy\"])\n",
    "\n",
    "model.fit(X, y, batch_size = 64, validation_split = 0.1, epochs = 5)\n",
    "model.save(f\"models/2x256_33-{time.time()}.h5\")\n",
    "model.save(\"models/latest.h5\")"
   ]
  },
  {
   "cell_type": "code",
   "execution_count": 40,
   "metadata": {},
   "outputs": [],
   "source": [
    "DATADIR_TEST = \"Img\"\n",
    "CATEGORIES_TEST = [\"BadImag\", \"GoodImg\"]\n",
    "FOLDERS_TEST = []\n",
    "for i in range(1,63):\n",
    "    if i < 10:\n",
    "        FOLDERS_TEST.append(\"Bmp\\\\Sample00\"+str(i))\n",
    "    else:\n",
    "        FOLDERS_TEST.append(\"Bmp\\\\Sample0\"+str(i))"
   ]
  },
  {
   "cell_type": "code",
   "execution_count": 82,
   "metadata": {},
   "outputs": [],
   "source": [
    "IMG_SIZE = 120\n",
    "GoodTest = []\n",
    "\n",
    "for folder in FOLDERS_TEST:\n",
    "    path = os.path.join(DATADIR_TEST, CATEGORIES_TEST[1], folder)\n",
    "    class_num = FOLDERS_TEST.index(folder)\n",
    "    for pic in os.listdir(path):\n",
    "        #print(os.path.join(path, pic))\n",
    "        image = cv2.imread(os.path.join(path, pic), cv2.IMREAD_GRAYSCALE)\n",
    "        array = cv2.resize(image, (IMG_SIZE, IMG_SIZE))\n",
    "        GoodTest.append([array, class_num])\n",
    "        \n",
    "BadTest = []\n",
    "\n",
    "for folder in FOLDERS_TEST:\n",
    "    path = os.path.join(DATADIR_TEST, CATEGORIES_TEST[0], folder)\n",
    "    class_num = FOLDERS_TEST.index(folder)\n",
    "    for pic in os.listdir(path):\n",
    "        #print(os.path.join(path, pic))\n",
    "        image = cv2.imread(os.path.join(path, pic), cv2.IMREAD_GRAYSCALE)\n",
    "        array = cv2.resize(image, (IMG_SIZE, IMG_SIZE))\n",
    "        BadTest.append([array, class_num])"
   ]
  },
  {
   "cell_type": "code",
   "execution_count": 42,
   "metadata": {},
   "outputs": [
    {
     "data": {
      "text/plain": [
       "<function BufferedWriter.close>"
      ]
     },
     "execution_count": 42,
     "metadata": {},
     "output_type": "execute_result"
    }
   ],
   "source": [
    "pickle_out = open(\"GoodTest.pickle\", \"wb\")\n",
    "pickle.dump(GoodTest, pickle_out)\n",
    "pickle_out.close\n",
    "\n",
    "pickle_out = open(\"BadTest.pickle\", \"wb\")\n",
    "pickle.dump(BadTest, pickle_out)\n",
    "pickle_out.close"
   ]
  },
  {
   "cell_type": "code",
   "execution_count": 24,
   "metadata": {},
   "outputs": [],
   "source": [
    "pickle_in = open(\"GoodTest.pickle\", \"rb\")\n",
    "GoodTest = pickle.load(pickle_in)\n",
    "\n",
    "pickle_in = open(\"BadTest.pickle\", \"rb\")\n",
    "BadTest = pickle.load(pickle_in)"
   ]
  },
  {
   "cell_type": "code",
   "execution_count": 25,
   "metadata": {},
   "outputs": [],
   "source": [
    "random.shuffle(GoodTest)\n",
    "random.shuffle(BadTest)"
   ]
  },
  {
   "cell_type": "code",
   "execution_count": 26,
   "metadata": {},
   "outputs": [],
   "source": [
    "Good_X = []\n",
    "Good_y = []\n",
    "Bad_X = []\n",
    "Bad_y = []"
   ]
  },
  {
   "cell_type": "code",
   "execution_count": 27,
   "metadata": {},
   "outputs": [],
   "source": [
    "for features, label in GoodTest:\n",
    "    Good_X.append(features)\n",
    "    Good_y.append(label)\n",
    "    \n",
    "for features, label in BadTest:\n",
    "    Bad_X.append(features)\n",
    "    Bad_y.append(label)\n",
    "    \n",
    "Good_X = np.array(Good_X).reshape(-1, IMG_SIZE, IMG_SIZE, 1)\n",
    "Good_X = Good_X/255\n",
    "Bad_X = np.array(Bad_X).reshape(-1, IMG_SIZE, IMG_SIZE, 1)\n",
    "Bad_X = Bad_X/255"
   ]
  },
  {
   "cell_type": "code",
   "execution_count": 28,
   "metadata": {},
   "outputs": [],
   "source": [
    "Good_y = keras.utils.to_categorical(Good_y)\n",
    "Bad_y = keras.utils.to_categorical(Bad_y)"
   ]
  },
  {
   "cell_type": "code",
   "execution_count": null,
   "metadata": {},
   "outputs": [],
   "source": [
    "model = keras.models.load_model(\"models/latest.h5\")"
   ]
  },
  {
   "cell_type": "code",
   "execution_count": 39,
   "metadata": {},
   "outputs": [
    {
     "name": "stdout",
     "output_type": "stream",
     "text": [
      "7705/7705 [==============================] - ETA:  - 13s 2ms/step\n",
      "4798/4798 [==============================] - 7s 2ms/step\n"
     ]
    }
   ],
   "source": [
    "Good_acc = model.evaluate(Good_X, Good_y)\n",
    "Bad_acc = model.evaluate(Bad_X, Bad_y)\n",
    "Good_pred = model.predict(Good_X)\n",
    "Bad_pred = model.predict(Bad_X)"
   ]
  },
  {
   "cell_type": "code",
   "execution_count": 40,
   "metadata": {},
   "outputs": [
    {
     "name": "stdout",
     "output_type": "stream",
     "text": [
      "On the Good image dataset we have a loss of 3.74 and an accuracy of 0.15\n",
      "On the Bad image dataset we have a loss of 3.98 and an accuracy of 0.08\n"
     ]
    }
   ],
   "source": [
    "print(f\"On the Good image dataset we have a loss of {round(Good_acc[0], 2)} and an accuracy of {round(Good_acc[1], 2)}\")\n",
    "print(f\"On the Bad image dataset we have a loss of {round(Bad_acc[0], 2)} and an accuracy of {round(Bad_acc[1], 2)}\")"
   ]
  },
  {
   "cell_type": "code",
   "execution_count": 31,
   "metadata": {},
   "outputs": [],
   "source": [
    "import operator\n",
    "def implicit(l):\n",
    "    max_idx, max_val = max(enumerate(l), key=operator.itemgetter(1))\n",
    "    return max_idx, max_val"
   ]
  },
  {
   "cell_type": "code",
   "execution_count": 43,
   "metadata": {},
   "outputs": [
    {
     "name": "stdout",
     "output_type": "stream",
     "text": [
      "28\n",
      "(47, 0.11268429)\n",
      "[0.01183315 0.02829354 0.00055938 0.00588979 0.02702537 0.00997247\n",
      " 0.01565903 0.00103425 0.01061713 0.00740199 0.08772679 0.00422939\n",
      " 0.01166323 0.01087627 0.00314905 0.0047751  0.01059862 0.00465877\n",
      " 0.04624441 0.04249408 0.02672012 0.01309995 0.00219209 0.01503708\n",
      " 0.0219743  0.00209988 0.01244328 0.00539412 0.05909584 0.00560086\n",
      " 0.01066263 0.0125861  0.00218213 0.01089567 0.00773493 0.01282769\n",
      " 0.02760534 0.01052171 0.00586519 0.00859124 0.00690374 0.00903702\n",
      " 0.02567777 0.01419685 0.00748798 0.01701952 0.02593306 0.11268429\n",
      " 0.00352883 0.00471643 0.00758802 0.00796937 0.00573753 0.01166783\n",
      " 0.03729499 0.01496899 0.00624757 0.00469935 0.00376962 0.02862471\n",
      " 0.02033692 0.00607767]\n"
     ]
    },
    {
     "data": {
      "image/png": "[encoded data removed]",
      "text/plain": [
       "<Figure size 432x288 with 1 Axes>"
      ]
     },
     "metadata": {},
     "output_type": "display_data"
    }
   ],
   "source": [
    "i = 5\n",
    "plt.imshow(GoodTest[i][0], cmap = \"binary\")\n",
    "print(GoodTest[i][1])\n",
    "print(implicit(Good_pred[i]))\n",
    "print(Good_pred[i])"
   ]
  },
  {
   "cell_type": "code",
   "execution_count": null,
   "metadata": {},
   "outputs": [],
   "source": []
  }
 ],
 "metadata": {
  "kernelspec": {
   "display_name": "Python 3",
   "language": "python",
   "name": "python3"
  },
  "language_info": {
   "codemirror_mode": {
    "name": "ipython",
    "version": 3
   },
   "file_extension": ".py",
   "mimetype": "text/x-python",
   "name": "python",
   "nbconvert_exporter": "python",
   "pygments_lexer": "ipython3",
   "version": "3.6.5"
  }
 },
 "nbformat": 4,
 "nbformat_minor": 2
}
